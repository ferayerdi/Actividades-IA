{
  "nbformat": 4,
  "nbformat_minor": 0,
  "metadata": {
    "colab": {
      "provenance": [],
      "authorship_tag": "ABX9TyOyQBGraXV3pvaLoEYLhOJr",
      "include_colab_link": true
    },
    "kernelspec": {
      "name": "python3",
      "display_name": "Python 3"
    },
    "language_info": {
      "name": "python"
    }
  },
  "cells": [
    {
      "cell_type": "markdown",
      "metadata": {
        "id": "view-in-github",
        "colab_type": "text"
      },
      "source": [
        "<a href=\"https://colab.research.google.com/github/ferayerdi/Tareas-IA/blob/main/EjercicioPython_1.ipynb\" target=\"_parent\"><img src=\"https://colab.research.google.com/assets/colab-badge.svg\" alt=\"Open In Colab\"/></a>"
      ]
    },
    {
      "cell_type": "code",
      "source": [],
      "metadata": {
        "id": "3_a7kC4MGKEH"
      },
      "execution_count": null,
      "outputs": []
    },
    {
      "cell_type": "markdown",
      "source": [
        "**Nombre:** Fernanda Adilsa Ayerdi\n",
        "\n",
        "**Matricula:**1727025\n",
        "\n",
        "**Grupo:** 002 Sabatinos"
      ],
      "metadata": {
        "id": "8rRS_Ag9F603"
      }
    },
    {
      "cell_type": "markdown",
      "source": [
        "**Ejercicio 1**\n",
        "\n",
        "Escribe un programa que solicite al usuario un número y que indique si es par o impar.\n"
      ],
      "metadata": {
        "id": "oPKJFOl8J6f1"
      }
    },
    {
      "cell_type": "code",
      "source": [
        "def par_o_impar(numero):\n",
        "  if numero % 2 == 0:\n",
        "    return \"Par\"\n",
        "  else:\n",
        "    return \"Impar\"\n",
        "\n",
        "numero=int(input(\"Ingresa un numero:\"))\n",
        "resultado = par_o_impar (numero)\n",
        "print(f\"El numero {numero} es {resultado}\")\n"
      ],
      "metadata": {
        "colab": {
          "base_uri": "https://localhost:8080/"
        },
        "outputId": "17eab746-fd07-4c4b-81c7-f38290925f95",
        "id": "qkDgtragMRz3"
      },
      "execution_count": 10,
      "outputs": [
        {
          "output_type": "stream",
          "name": "stdout",
          "text": [
            "Ingresa un numero:1\n",
            "El numero 1 es Impar\n"
          ]
        }
      ]
    },
    {
      "cell_type": "markdown",
      "source": [
        "**Ejercicio 2**\n",
        "\n",
        " Escribe un programa que tome una lista de números ingresados por el usuario y muestre la lista en orden inverso."
      ],
      "metadata": {
        "id": "7x5sGAi1GiAe"
      }
    },
    {
      "cell_type": "code",
      "source": [
        "entrada = input(\"Ingrese una lista de números separados por espacios: \")\n",
        "\n",
        "numeros_texto = entrada.split()\n",
        "\n",
        "numeros = [int(numero) for numero in numeros_texto]\n",
        "\n",
        "# Mostrar la lista en orden inverso utilizando la función `list()`\n",
        "numeros_invertidos = list(reversed(numeros))\n",
        "print(\"La lista en orden inverso es:\", numeros_invertidos)\n"
      ],
      "metadata": {
        "colab": {
          "base_uri": "https://localhost:8080/"
        },
        "id": "QUp6_NqlJSMW",
        "outputId": "d5471087-c47f-4224-ad49-35a9267ba509"
      },
      "execution_count": 2,
      "outputs": [
        {
          "output_type": "stream",
          "name": "stdout",
          "text": [
            "Ingrese una lista de números separados por espacios: 8 9 7 5 2 1 \n",
            "La lista en orden inverso es: [1, 2, 5, 7, 9, 8]\n"
          ]
        }
      ]
    },
    {
      "cell_type": "markdown",
      "source": [
        "**Ejercicio 3**"
      ],
      "metadata": {
        "id": "O8kGJgKLEG3L"
      }
    },
    {
      "cell_type": "markdown",
      "source": [
        "Juego de adivinar el número: Crea un programa que genere un número aleatorio entre 1 y 100, y luego le pida al usuario que adivine el número. El programa debe proporcionar pistas al usuario si el número es mayor o menor que el número objetivo, y seguir solicitando un nuevo intento hasta que el usuario adivine correctamente."
      ],
      "metadata": {
        "id": "Vfcj4DDLFjI8"
      }
    },
    {
      "cell_type": "code",
      "source": [
        "import random\n",
        "\n",
        "target_number = random.randint(1, 100)\n",
        "\n",
        "attempts = 0\n",
        "\n",
        "print(\"Bienvenido a adivina el numero\")\n",
        "\n",
        "while True:\n",
        "    user_guess = int(input(\"Adivina el numero entre 1 y 100: \"))\n",
        "\n",
        "    attempts += 1\n",
        "\n",
        "    if user_guess == target_number:\n",
        "        print(f\"Felicidades! Adivinaste el numero {target_number} correctamente en {attempts} intentos.\")\n",
        "        break\n",
        "    elif user_guess < target_number:\n",
        "        print(\"El numero es mayor. Intenta de nuevo.\")\n",
        "    else:\n",
        "        print(\"El numero es menor. Intenta de nuevo.\")"
      ],
      "metadata": {
        "colab": {
          "base_uri": "https://localhost:8080/"
        },
        "id": "U83J5sefEJIY",
        "outputId": "2021c0cb-31c5-49d5-9671-3d41bd365503"
      },
      "execution_count": 1,
      "outputs": [
        {
          "output_type": "stream",
          "name": "stdout",
          "text": [
            "Bienvenido a adivina el numero\n",
            "Adivina el numero entre 1 y 100: 5\n",
            "El numero es mayor. Intenta de nuevo.\n",
            "Adivina el numero entre 1 y 100: 6\n",
            "El numero es mayor. Intenta de nuevo.\n",
            "Adivina el numero entre 1 y 100: 10\n",
            "El numero es mayor. Intenta de nuevo.\n",
            "Adivina el numero entre 1 y 100: 40\n",
            "El numero es mayor. Intenta de nuevo.\n",
            "Adivina el numero entre 1 y 100: 50\n",
            "El numero es mayor. Intenta de nuevo.\n",
            "Adivina el numero entre 1 y 100: 80\n",
            "El numero es menor. Intenta de nuevo.\n",
            "Adivina el numero entre 1 y 100: 70\n",
            "El numero es menor. Intenta de nuevo.\n",
            "Adivina el numero entre 1 y 100: 60\n",
            "El numero es mayor. Intenta de nuevo.\n",
            "Adivina el numero entre 1 y 100: 65\n",
            "El numero es menor. Intenta de nuevo.\n",
            "Adivina el numero entre 1 y 100: 61\n",
            "El numero es mayor. Intenta de nuevo.\n",
            "Adivina el numero entre 1 y 100: 62\n",
            "El numero es mayor. Intenta de nuevo.\n",
            "Adivina el numero entre 1 y 100: 63\n",
            "Felicidades! Adivinaste el numero 63 correctamente en 12 intentos.\n"
          ]
        }
      ]
    },
    {
      "cell_type": "markdown",
      "source": [
        "**Ejercicio 4**\n",
        "\n",
        "Escribe un programa que solicite al usuario un rango de números y muestre todos los números primos dentro de ese rango."
      ],
      "metadata": {
        "id": "l2RORnuCMols"
      }
    },
    {
      "cell_type": "code",
      "source": [
        "def es_primo(numero):\n",
        "    if numero <= 1:\n",
        "        return False\n",
        "    elif numero <= 3:\n",
        "        return True\n",
        "    elif numero % 2 == 0 or numero % 3 == 0:\n",
        "        return False\n",
        "    i = 5\n",
        "    while i * i <= numero:\n",
        "        if numero % i == 0 or numero % (i + 2) == 0:\n",
        "            return False\n",
        "        i += 6\n",
        "    return True\n",
        "\n",
        "try:\n",
        "    inicio = int(input(\"Ingrese el número inicial del rango: \"))\n",
        "    fin = int(input(\"Ingrese el número final del rango: \"))\n",
        "\n",
        "    print(f\"Los números primos en el rango de {inicio} a {fin} son:\")\n",
        "    for numero in range(inicio, fin + 1):\n",
        "        if es_primo(numero):\n",
        "            print(numero, end=\" \")\n",
        "\n",
        "except ValueError:\n",
        "    print(\"Por favor, ingrese números enteros válidos para el rango.\")"
      ],
      "metadata": {
        "colab": {
          "base_uri": "https://localhost:8080/"
        },
        "id": "KbUGGEouOYJ6",
        "outputId": "e66c2a49-ef2d-4aaa-8237-77e258e554ec"
      },
      "execution_count": 13,
      "outputs": [
        {
          "output_type": "stream",
          "name": "stdout",
          "text": [
            "Ingrese el número inicial del rango: 2\n",
            "Ingrese el número final del rango: 90\n",
            "Los números primos en el rango de 2 a 90 son:\n",
            "2 3 5 7 11 13 17 19 23 29 31 37 41 43 47 53 59 61 67 71 73 79 83 89 "
          ]
        }
      ]
    }
  ]
}